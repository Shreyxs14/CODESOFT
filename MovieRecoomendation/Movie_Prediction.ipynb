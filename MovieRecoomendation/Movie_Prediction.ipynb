{
  "nbformat": 4,
  "nbformat_minor": 0,
  "metadata": {
    "colab": {
      "provenance": []
    },
    "kernelspec": {
      "name": "python3",
      "display_name": "Python 3"
    },
    "language_info": {
      "name": "python"
    }
  },
  "cells": [
    {
      "cell_type": "code",
      "execution_count": 2,
      "metadata": {
        "id": "bBXPVe0LQ65p"
      },
      "outputs": [],
      "source": [
        "import pandas as pd\n",
        "from sklearn.model_selection import train_test_split\n",
        "from sklearn.feature_extraction.text import TfidfVectorizer\n",
        "from sklearn.naive_bayes import MultinomialNB\n",
        "from sklearn.linear_model import LogisticRegression\n",
        "from sklearn.svm import LinearSVC\n",
        "from sklearn.metrics import accuracy_score, classification_report"
      ]
    },
    {
      "cell_type": "code",
      "source": [
        "data = []\n",
        "with open('train_data.txt', 'r', encoding='utf-8') as f:\n",
        "    for line in f:\n",
        "        parts = line.strip().split(\" ::: \")\n",
        "        if len(parts) == 4:  # Ensure the line has all parts\n",
        "            index, title, genre, plot = parts\n",
        "            data.append((title, genre, plot))\n"
      ],
      "metadata": {
        "id": "vOKTDfQqWN7V"
      },
      "execution_count": 3,
      "outputs": []
    },
    {
      "cell_type": "code",
      "source": [
        "df = pd.DataFrame(data, columns=['title', 'genre', 'plot'])\n",
        "\n",
        "# Step 2: Preprocess and Split the Data\n",
        "# For simplicity, we’ll use only the 'plot' and 'genre' columns\n",
        "df = df[['plot', 'genre']].dropna()  # Drop rows with missing values\n",
        "\n",
        "# Split data into training and testing sets\n",
        "X_train, X_test, y_train, y_test = train_test_split(df['plot'], df['genre'], test_size=0.2, random_state=42)\n"
      ],
      "metadata": {
        "id": "vjK1gZASWVFi"
      },
      "execution_count": 4,
      "outputs": []
    },
    {
      "cell_type": "code",
      "source": [
        "# Vectorize the plot summaries using TF-IDF\n",
        "tfidf = TfidfVectorizer(max_features=5000, stop_words='english')\n",
        "X_train_tfidf = tfidf.fit_transform(X_train)\n",
        "X_test_tfidf = tfidf.transform(X_test)"
      ],
      "metadata": {
        "id": "LXi-gPiBWXPm"
      },
      "execution_count": 5,
      "outputs": []
    },
    {
      "cell_type": "code",
      "source": [
        "# Naive Bayes Classifier\n",
        "nb_model = MultinomialNB()\n",
        "nb_model.fit(X_train_tfidf, y_train)\n",
        "nb_pred = nb_model.predict(X_test_tfidf)\n",
        "print(\"Naive Bayes Accuracy:\", accuracy_score(y_test, nb_pred))\n",
        "print(classification_report(y_test, nb_pred))\n"
      ],
      "metadata": {
        "colab": {
          "base_uri": "https://localhost:8080/"
        },
        "collapsed": true,
        "id": "bg0E9pQpWZ3U",
        "outputId": "490990f7-d64e-4d86-dcf9-a1913cd11488"
      },
      "execution_count": 6,
      "outputs": [
        {
          "output_type": "stream",
          "name": "stdout",
          "text": [
            "Naive Bayes Accuracy: 0.4784961549416121\n",
            "              precision    recall  f1-score   support\n",
            "\n",
            "      action       1.00      0.02      0.04        96\n",
            "       adult       0.00      0.00      0.00        35\n",
            "   adventure       0.00      0.00      0.00        58\n",
            "   animation       0.00      0.00      0.00        31\n",
            "   biography       0.00      0.00      0.00        15\n",
            "      comedy       0.54      0.35      0.42       464\n",
            "       crime       0.00      0.00      0.00        32\n",
            " documentary       0.54      0.89      0.67       846\n",
            "       drama       0.42      0.82      0.55       893\n",
            "      family       0.00      0.00      0.00        45\n",
            "     fantasy       0.00      0.00      0.00        25\n",
            "   game-show       0.00      0.00      0.00        12\n",
            "     history       0.00      0.00      0.00        12\n",
            "      horror       0.79      0.10      0.18       148\n",
            "       music       0.00      0.00      0.00        48\n",
            "     musical       0.00      0.00      0.00        14\n",
            "     mystery       0.00      0.00      0.00        20\n",
            "        news       0.00      0.00      0.00         9\n",
            "  reality-tv       0.00      0.00      0.00        64\n",
            "     romance       0.00      0.00      0.00        44\n",
            "      sci-fi       0.00      0.00      0.00        42\n",
            "       short       0.50      0.03      0.05       328\n",
            "       sport       1.00      0.04      0.07        28\n",
            "   talk-show       0.00      0.00      0.00        28\n",
            "    thriller       0.00      0.00      0.00       104\n",
            "         war       0.00      0.00      0.00         6\n",
            "     western       1.00      0.17      0.29        64\n",
            "\n",
            "    accuracy                           0.48      3511\n",
            "   macro avg       0.21      0.09      0.08      3511\n",
            "weighted avg       0.44      0.48      0.38      3511\n",
            "\n"
          ]
        },
        {
          "output_type": "stream",
          "name": "stderr",
          "text": [
            "/usr/local/lib/python3.10/dist-packages/sklearn/metrics/_classification.py:1531: UndefinedMetricWarning: Precision is ill-defined and being set to 0.0 in labels with no predicted samples. Use `zero_division` parameter to control this behavior.\n",
            "  _warn_prf(average, modifier, f\"{metric.capitalize()} is\", len(result))\n",
            "/usr/local/lib/python3.10/dist-packages/sklearn/metrics/_classification.py:1531: UndefinedMetricWarning: Precision is ill-defined and being set to 0.0 in labels with no predicted samples. Use `zero_division` parameter to control this behavior.\n",
            "  _warn_prf(average, modifier, f\"{metric.capitalize()} is\", len(result))\n",
            "/usr/local/lib/python3.10/dist-packages/sklearn/metrics/_classification.py:1531: UndefinedMetricWarning: Precision is ill-defined and being set to 0.0 in labels with no predicted samples. Use `zero_division` parameter to control this behavior.\n",
            "  _warn_prf(average, modifier, f\"{metric.capitalize()} is\", len(result))\n"
          ]
        }
      ]
    },
    {
      "cell_type": "code",
      "source": [
        "# Logistic Regression Classifier\n",
        "lr_model = LogisticRegression(max_iter=200)\n",
        "lr_model.fit(X_train_tfidf, y_train)\n",
        "lr_pred = lr_model.predict(X_test_tfidf)\n",
        "print(\"Logistic Regression Accuracy:\", accuracy_score(y_test, lr_pred))\n",
        "print(classification_report(y_test, lr_pred))"
      ],
      "metadata": {
        "colab": {
          "base_uri": "https://localhost:8080/"
        },
        "id": "FPDxNfY2Wctm",
        "outputId": "aa165aed-d5c8-438e-b63c-54ba5fa591ef"
      },
      "execution_count": 7,
      "outputs": [
        {
          "output_type": "stream",
          "name": "stdout",
          "text": [
            "Logistic Regression Accuracy: 0.5243520364568499\n",
            "              precision    recall  f1-score   support\n",
            "\n",
            "      action       0.38      0.05      0.09        96\n",
            "       adult       0.00      0.00      0.00        35\n",
            "   adventure       0.80      0.07      0.13        58\n",
            "   animation       0.00      0.00      0.00        31\n",
            "   biography       0.00      0.00      0.00        15\n",
            "      comedy       0.47      0.54      0.50       464\n",
            "       crime       0.00      0.00      0.00        32\n",
            " documentary       0.60      0.86      0.71       846\n",
            "       drama       0.47      0.74      0.58       893\n",
            "      family       0.00      0.00      0.00        45\n",
            "     fantasy       0.00      0.00      0.00        25\n",
            "   game-show       1.00      0.33      0.50        12\n",
            "     history       0.00      0.00      0.00        12\n",
            "      horror       0.72      0.36      0.48       148\n",
            "       music       0.76      0.27      0.40        48\n",
            "     musical       0.00      0.00      0.00        14\n",
            "     mystery       0.00      0.00      0.00        20\n",
            "        news       0.00      0.00      0.00         9\n",
            "  reality-tv       0.83      0.08      0.14        64\n",
            "     romance       0.00      0.00      0.00        44\n",
            "      sci-fi       0.29      0.05      0.08        42\n",
            "       short       0.38      0.23      0.29       328\n",
            "       sport       0.40      0.07      0.12        28\n",
            "   talk-show       1.00      0.04      0.07        28\n",
            "    thriller       0.46      0.06      0.10       104\n",
            "         war       0.00      0.00      0.00         6\n",
            "     western       1.00      0.42      0.59        64\n",
            "\n",
            "    accuracy                           0.52      3511\n",
            "   macro avg       0.35      0.15      0.18      3511\n",
            "weighted avg       0.49      0.52      0.46      3511\n",
            "\n"
          ]
        },
        {
          "output_type": "stream",
          "name": "stderr",
          "text": [
            "/usr/local/lib/python3.10/dist-packages/sklearn/metrics/_classification.py:1531: UndefinedMetricWarning: Precision is ill-defined and being set to 0.0 in labels with no predicted samples. Use `zero_division` parameter to control this behavior.\n",
            "  _warn_prf(average, modifier, f\"{metric.capitalize()} is\", len(result))\n",
            "/usr/local/lib/python3.10/dist-packages/sklearn/metrics/_classification.py:1531: UndefinedMetricWarning: Precision is ill-defined and being set to 0.0 in labels with no predicted samples. Use `zero_division` parameter to control this behavior.\n",
            "  _warn_prf(average, modifier, f\"{metric.capitalize()} is\", len(result))\n",
            "/usr/local/lib/python3.10/dist-packages/sklearn/metrics/_classification.py:1531: UndefinedMetricWarning: Precision is ill-defined and being set to 0.0 in labels with no predicted samples. Use `zero_division` parameter to control this behavior.\n",
            "  _warn_prf(average, modifier, f\"{metric.capitalize()} is\", len(result))\n"
          ]
        }
      ]
    },
    {
      "cell_type": "code",
      "source": [
        "# Support Vector Machine (SVM) Classifier\n",
        "svm_model = LinearSVC()\n",
        "svm_model.fit(X_train_tfidf, y_train)\n",
        "svm_pred = svm_model.predict(X_test_tfidf)\n",
        "print(\"SVM Accuracy:\", accuracy_score(y_test, svm_pred))\n",
        "print(classification_report(y_test, svm_pred))"
      ],
      "metadata": {
        "colab": {
          "base_uri": "https://localhost:8080/"
        },
        "collapsed": true,
        "id": "B5TOqqaRWfXL",
        "outputId": "e615ee35-2156-41b7-921f-81f4e10cb293"
      },
      "execution_count": 8,
      "outputs": [
        {
          "output_type": "stream",
          "name": "stdout",
          "text": [
            "SVM Accuracy: 0.5046995158074623\n",
            "              precision    recall  f1-score   support\n",
            "\n",
            "      action       0.41      0.22      0.29        96\n",
            "       adult       0.38      0.17      0.24        35\n",
            "   adventure       0.45      0.17      0.25        58\n",
            "   animation       0.17      0.06      0.09        31\n",
            "   biography       0.00      0.00      0.00        15\n",
            "      comedy       0.44      0.51      0.47       464\n",
            "       crime       0.20      0.03      0.05        32\n",
            " documentary       0.64      0.77      0.70       846\n",
            "       drama       0.50      0.62      0.55       893\n",
            "      family       0.20      0.09      0.12        45\n",
            "     fantasy       0.00      0.00      0.00        25\n",
            "   game-show       0.62      0.42      0.50        12\n",
            "     history       0.50      0.08      0.14        12\n",
            "      horror       0.57      0.47      0.52       148\n",
            "       music       0.46      0.33      0.39        48\n",
            "     musical       0.00      0.00      0.00        14\n",
            "     mystery       0.00      0.00      0.00        20\n",
            "        news       0.33      0.22      0.27         9\n",
            "  reality-tv       0.36      0.16      0.22        64\n",
            "     romance       0.17      0.05      0.07        44\n",
            "      sci-fi       0.39      0.21      0.28        42\n",
            "       short       0.30      0.30      0.30       328\n",
            "       sport       0.41      0.25      0.31        28\n",
            "   talk-show       0.67      0.14      0.24        28\n",
            "    thriller       0.24      0.13      0.17       104\n",
            "         war       0.20      0.17      0.18         6\n",
            "     western       0.81      0.73      0.77        64\n",
            "\n",
            "    accuracy                           0.50      3511\n",
            "   macro avg       0.35      0.23      0.26      3511\n",
            "weighted avg       0.48      0.50      0.48      3511\n",
            "\n"
          ]
        },
        {
          "output_type": "stream",
          "name": "stderr",
          "text": [
            "/usr/local/lib/python3.10/dist-packages/sklearn/metrics/_classification.py:1531: UndefinedMetricWarning: Precision is ill-defined and being set to 0.0 in labels with no predicted samples. Use `zero_division` parameter to control this behavior.\n",
            "  _warn_prf(average, modifier, f\"{metric.capitalize()} is\", len(result))\n",
            "/usr/local/lib/python3.10/dist-packages/sklearn/metrics/_classification.py:1531: UndefinedMetricWarning: Precision is ill-defined and being set to 0.0 in labels with no predicted samples. Use `zero_division` parameter to control this behavior.\n",
            "  _warn_prf(average, modifier, f\"{metric.capitalize()} is\", len(result))\n",
            "/usr/local/lib/python3.10/dist-packages/sklearn/metrics/_classification.py:1531: UndefinedMetricWarning: Precision is ill-defined and being set to 0.0 in labels with no predicted samples. Use `zero_division` parameter to control this behavior.\n",
            "  _warn_prf(average, modifier, f\"{metric.capitalize()} is\", len(result))\n"
          ]
        }
      ]
    },
    {
      "cell_type": "code",
      "source": [
        "# Step 4: Define a Function to Predict Genre for New Plot Summaries\n",
        "\n",
        "def predict_genre(plot_summary):\n",
        "    # Transform the input plot summary using the fitted TF-IDF vectorizer\n",
        "    plot_summary_tfidf = tfidf.transform([plot_summary])\n",
        "\n",
        "    # Predict the genre using the trained model\n",
        "    genre_prediction = lr_model.predict(plot_summary_tfidf)\n",
        "\n",
        "    # Return the predicted genre\n",
        "    return genre_prediction[0]"
      ],
      "metadata": {
        "id": "zqMPzI17W1Eg"
      },
      "execution_count": 9,
      "outputs": []
    },
    {
      "cell_type": "code",
      "source": [
        "# Example input plot summary\n",
        "new_plot = \"In the rugged frontier town of Dusty Ridge, a former outlaw seeks redemption by taking on the role of sheriff. When a ruthless gang of bandits, led by his old partner, threatens the town, he must confront his dark past to protect the people he now calls his own. Alongside a local rancher and a quick-drawing drifter, he rides out to face the gang in a showdown. Amidst gunfights, betrayal, and the harsh landscape of the Old West, he struggles to bring justice and earn the trust of the townsfolk, ultimately proving that even the most hardened men can find redemption.\"\n",
        "\n",
        "nn = \"A middle-aged woman, struggling with the recent death of her husband, moves back to her hometown to start over. There, she reconnects with old friends, rekindles her relationship with her estranged daughter, and begins volunteering at a community center. As she helps others in her town confront their challenges, she slowly finds healing and purpose in her own life. Through moments of sorrow, joy, and personal growth, she learns to accept her loss and discovers inner strength she never knew she had.\"\n",
        "\n",
        "# Predict genre for the new plot summary\n",
        "predicted_genre = predict_genre(nn)\n",
        "print(f\"Predicted genre for the input plot: {predicted_genre}\")\n"
      ],
      "metadata": {
        "colab": {
          "base_uri": "https://localhost:8080/"
        },
        "id": "E9KWdoZ3W2TG",
        "outputId": "afb4f6f0-a861-4dcd-d514-9e4893afda07"
      },
      "execution_count": 16,
      "outputs": [
        {
          "output_type": "stream",
          "name": "stdout",
          "text": [
            "Predicted genre for the input plot: drama\n"
          ]
        }
      ]
    }
  ]
}